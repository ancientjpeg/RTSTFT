{
 "cells": [
  {
   "cell_type": "code",
   "execution_count": 17,
   "metadata": {},
   "outputs": [],
   "source": [
    "import numpy as np\n",
    "from matplotlib import pyplot as plt\n",
    "from bokeh.plotting import figure, show, output_notebook, output_file\n",
    "from bokeh.io import export_png"
   ]
  },
  {
   "cell_type": "code",
   "execution_count": 19,
   "metadata": {},
   "outputs": [
    {
     "data": {
      "text/html": [
       "\n",
       "    <div class=\"bk-root\">\n",
       "        <a href=\"https://bokeh.org\" target=\"_blank\" class=\"bk-logo bk-logo-small bk-logo-notebook\"></a>\n",
       "        <span id=\"2077\">Loading BokehJS ...</span>\n",
       "    </div>"
      ]
     },
     "metadata": {},
     "output_type": "display_data"
    },
    {
     "data": {
      "application/javascript": "\n(function(root) {\n  function now() {\n    return new Date();\n  }\n\n  const force = true;\n\n  if (typeof root._bokeh_onload_callbacks === \"undefined\" || force === true) {\n    root._bokeh_onload_callbacks = [];\n    root._bokeh_is_loading = undefined;\n  }\n\n  const JS_MIME_TYPE = 'application/javascript';\n  const HTML_MIME_TYPE = 'text/html';\n  const EXEC_MIME_TYPE = 'application/vnd.bokehjs_exec.v0+json';\n  const CLASS_NAME = 'output_bokeh rendered_html';\n\n  /**\n   * Render data to the DOM node\n   */\n  function render(props, node) {\n    const script = document.createElement(\"script\");\n    node.appendChild(script);\n  }\n\n  /**\n   * Handle when an output is cleared or removed\n   */\n  function handleClearOutput(event, handle) {\n    const cell = handle.cell;\n\n    const id = cell.output_area._bokeh_element_id;\n    const server_id = cell.output_area._bokeh_server_id;\n    // Clean up Bokeh references\n    if (id != null && id in Bokeh.index) {\n      Bokeh.index[id].model.document.clear();\n      delete Bokeh.index[id];\n    }\n\n    if (server_id !== undefined) {\n      // Clean up Bokeh references\n      const cmd_clean = \"from bokeh.io.state import curstate; print(curstate().uuid_to_server['\" + server_id + \"'].get_sessions()[0].document.roots[0]._id)\";\n      cell.notebook.kernel.execute(cmd_clean, {\n        iopub: {\n          output: function(msg) {\n            const id = msg.content.text.trim();\n            if (id in Bokeh.index) {\n              Bokeh.index[id].model.document.clear();\n              delete Bokeh.index[id];\n            }\n          }\n        }\n      });\n      // Destroy server and session\n      const cmd_destroy = \"import bokeh.io.notebook as ion; ion.destroy_server('\" + server_id + \"')\";\n      cell.notebook.kernel.execute(cmd_destroy);\n    }\n  }\n\n  /**\n   * Handle when a new output is added\n   */\n  function handleAddOutput(event, handle) {\n    const output_area = handle.output_area;\n    const output = handle.output;\n\n    // limit handleAddOutput to display_data with EXEC_MIME_TYPE content only\n    if ((output.output_type != \"display_data\") || (!Object.prototype.hasOwnProperty.call(output.data, EXEC_MIME_TYPE))) {\n      return\n    }\n\n    const toinsert = output_area.element.find(\".\" + CLASS_NAME.split(' ')[0]);\n\n    if (output.metadata[EXEC_MIME_TYPE][\"id\"] !== undefined) {\n      toinsert[toinsert.length - 1].firstChild.textContent = output.data[JS_MIME_TYPE];\n      // store reference to embed id on output_area\n      output_area._bokeh_element_id = output.metadata[EXEC_MIME_TYPE][\"id\"];\n    }\n    if (output.metadata[EXEC_MIME_TYPE][\"server_id\"] !== undefined) {\n      const bk_div = document.createElement(\"div\");\n      bk_div.innerHTML = output.data[HTML_MIME_TYPE];\n      const script_attrs = bk_div.children[0].attributes;\n      for (let i = 0; i < script_attrs.length; i++) {\n        toinsert[toinsert.length - 1].firstChild.setAttribute(script_attrs[i].name, script_attrs[i].value);\n        toinsert[toinsert.length - 1].firstChild.textContent = bk_div.children[0].textContent\n      }\n      // store reference to server id on output_area\n      output_area._bokeh_server_id = output.metadata[EXEC_MIME_TYPE][\"server_id\"];\n    }\n  }\n\n  function register_renderer(events, OutputArea) {\n\n    function append_mime(data, metadata, element) {\n      // create a DOM node to render to\n      const toinsert = this.create_output_subarea(\n        metadata,\n        CLASS_NAME,\n        EXEC_MIME_TYPE\n      );\n      this.keyboard_manager.register_events(toinsert);\n      // Render to node\n      const props = {data: data, metadata: metadata[EXEC_MIME_TYPE]};\n      render(props, toinsert[toinsert.length - 1]);\n      element.append(toinsert);\n      return toinsert\n    }\n\n    /* Handle when an output is cleared or removed */\n    events.on('clear_output.CodeCell', handleClearOutput);\n    events.on('delete.Cell', handleClearOutput);\n\n    /* Handle when a new output is added */\n    events.on('output_added.OutputArea', handleAddOutput);\n\n    /**\n     * Register the mime type and append_mime function with output_area\n     */\n    OutputArea.prototype.register_mime_type(EXEC_MIME_TYPE, append_mime, {\n      /* Is output safe? */\n      safe: true,\n      /* Index of renderer in `output_area.display_order` */\n      index: 0\n    });\n  }\n\n  // register the mime type if in Jupyter Notebook environment and previously unregistered\n  if (root.Jupyter !== undefined) {\n    const events = require('base/js/events');\n    const OutputArea = require('notebook/js/outputarea').OutputArea;\n\n    if (OutputArea.prototype.mime_types().indexOf(EXEC_MIME_TYPE) == -1) {\n      register_renderer(events, OutputArea);\n    }\n  }\n\n  \n  if (typeof (root._bokeh_timeout) === \"undefined\" || force === true) {\n    root._bokeh_timeout = Date.now() + 5000;\n    root._bokeh_failed_load = false;\n  }\n\n  const NB_LOAD_WARNING = {'data': {'text/html':\n     \"<div style='background-color: #fdd'>\\n\"+\n     \"<p>\\n\"+\n     \"BokehJS does not appear to have successfully loaded. If loading BokehJS from CDN, this \\n\"+\n     \"may be due to a slow or bad network connection. Possible fixes:\\n\"+\n     \"</p>\\n\"+\n     \"<ul>\\n\"+\n     \"<li>re-rerun `output_notebook()` to attempt to load from CDN again, or</li>\\n\"+\n     \"<li>use INLINE resources instead, as so:</li>\\n\"+\n     \"</ul>\\n\"+\n     \"<code>\\n\"+\n     \"from bokeh.resources import INLINE\\n\"+\n     \"output_notebook(resources=INLINE)\\n\"+\n     \"</code>\\n\"+\n     \"</div>\"}};\n\n  function display_loaded() {\n    const el = document.getElementById(\"2077\");\n    if (el != null) {\n      el.textContent = \"BokehJS is loading...\";\n    }\n    if (root.Bokeh !== undefined) {\n      if (el != null) {\n        el.textContent = \"BokehJS \" + root.Bokeh.version + \" successfully loaded.\";\n      }\n    } else if (Date.now() < root._bokeh_timeout) {\n      setTimeout(display_loaded, 100)\n    }\n  }\n\n\n  function run_callbacks() {\n    try {\n      root._bokeh_onload_callbacks.forEach(function(callback) {\n        if (callback != null)\n          callback();\n      });\n    } finally {\n      delete root._bokeh_onload_callbacks\n    }\n    console.debug(\"Bokeh: all callbacks have finished\");\n  }\n\n  function load_libs(css_urls, js_urls, callback) {\n    if (css_urls == null) css_urls = [];\n    if (js_urls == null) js_urls = [];\n\n    root._bokeh_onload_callbacks.push(callback);\n    if (root._bokeh_is_loading > 0) {\n      console.debug(\"Bokeh: BokehJS is being loaded, scheduling callback at\", now());\n      return null;\n    }\n    if (js_urls == null || js_urls.length === 0) {\n      run_callbacks();\n      return null;\n    }\n    console.debug(\"Bokeh: BokehJS not loaded, scheduling load and callback at\", now());\n    root._bokeh_is_loading = css_urls.length + js_urls.length;\n\n    function on_load() {\n      root._bokeh_is_loading--;\n      if (root._bokeh_is_loading === 0) {\n        console.debug(\"Bokeh: all BokehJS libraries/stylesheets loaded\");\n        run_callbacks()\n      }\n    }\n\n    function on_error(url) {\n      console.error(\"failed to load \" + url);\n    }\n\n    for (let i = 0; i < css_urls.length; i++) {\n      const url = css_urls[i];\n      const element = document.createElement(\"link\");\n      element.onload = on_load;\n      element.onerror = on_error.bind(null, url);\n      element.rel = \"stylesheet\";\n      element.type = \"text/css\";\n      element.href = url;\n      console.debug(\"Bokeh: injecting link tag for BokehJS stylesheet: \", url);\n      document.body.appendChild(element);\n    }\n\n    for (let i = 0; i < js_urls.length; i++) {\n      const url = js_urls[i];\n      const element = document.createElement('script');\n      element.onload = on_load;\n      element.onerror = on_error.bind(null, url);\n      element.async = false;\n      element.src = url;\n      console.debug(\"Bokeh: injecting script tag for BokehJS library: \", url);\n      document.head.appendChild(element);\n    }\n  };\n\n  function inject_raw_css(css) {\n    const element = document.createElement(\"style\");\n    element.appendChild(document.createTextNode(css));\n    document.body.appendChild(element);\n  }\n\n  \n  const js_urls = [\"https://cdn.bokeh.org/bokeh/release/bokeh-2.4.2.min.js\", \"https://cdn.bokeh.org/bokeh/release/bokeh-gl-2.4.2.min.js\", \"https://cdn.bokeh.org/bokeh/release/bokeh-widgets-2.4.2.min.js\", \"https://cdn.bokeh.org/bokeh/release/bokeh-tables-2.4.2.min.js\", \"https://cdn.bokeh.org/bokeh/release/bokeh-mathjax-2.4.2.min.js\"];\n  const css_urls = [];\n  \n\n  const inline_js = [\n    function(Bokeh) {\n      Bokeh.set_log_level(\"info\");\n    },\n    function(Bokeh) {\n    \n    \n    }\n  ];\n\n  function run_inline_js() {\n    \n    if (root.Bokeh !== undefined || force === true) {\n      \n    for (let i = 0; i < inline_js.length; i++) {\n      inline_js[i].call(root, root.Bokeh);\n    }\n    if (force === true) {\n        display_loaded();\n      }} else if (Date.now() < root._bokeh_timeout) {\n      setTimeout(run_inline_js, 100);\n    } else if (!root._bokeh_failed_load) {\n      console.log(\"Bokeh: BokehJS failed to load within specified timeout.\");\n      root._bokeh_failed_load = true;\n    } else if (force !== true) {\n      const cell = $(document.getElementById(\"2077\")).parents('.cell').data().cell;\n      cell.output_area.append_execute_result(NB_LOAD_WARNING)\n    }\n\n  }\n\n  if (root._bokeh_is_loading === 0) {\n    console.debug(\"Bokeh: BokehJS loaded, going straight to plotting\");\n    run_inline_js();\n  } else {\n    load_libs(css_urls, js_urls, function() {\n      console.debug(\"Bokeh: BokehJS plotting callback run at\", now());\n      run_inline_js();\n    });\n  }\n}(window));",
      "application/vnd.bokehjs_load.v0+json": ""
     },
     "metadata": {},
     "output_type": "display_data"
    },
    {
     "data": {
      "text/html": [
       "\n",
       "\n",
       "\n",
       "\n",
       "\n",
       "\n",
       "  <div class=\"bk-root\" id=\"22dd46a8-194e-4e37-8106-8fd45bc1e840\" data-root-id=\"2078\"></div>\n"
      ]
     },
     "metadata": {},
     "output_type": "display_data"
    },
    {
     "data": {
      "application/javascript": "(function(root) {\n  function embed_document(root) {\n    \n  const docs_json = {\"57b0430f-9276-4c5b-86aa-e2d9956271c0\":{\"defs\":[],\"roots\":{\"references\":[{\"attributes\":{\"below\":[{\"id\":\"2087\"}],\"center\":[{\"id\":\"2090\"},{\"id\":\"2094\"}],\"left\":[{\"id\":\"2091\"}],\"renderers\":[{\"id\":\"2113\"}],\"title\":{\"id\":\"2148\"},\"toolbar\":{\"id\":\"2102\"},\"x_range\":{\"id\":\"2079\"},\"x_scale\":{\"id\":\"2083\"},\"y_range\":{\"id\":\"2081\"},\"y_scale\":{\"id\":\"2085\"}},\"id\":\"2078\",\"subtype\":\"Figure\",\"type\":\"Plot\"},{\"attributes\":{},\"id\":\"2155\",\"type\":\"AllLabels\"},{\"attributes\":{},\"id\":\"2100\",\"type\":\"HelpTool\"},{\"attributes\":{},\"id\":\"2096\",\"type\":\"WheelZoomTool\"},{\"attributes\":{},\"id\":\"2151\",\"type\":\"BasicTickFormatter\"},{\"attributes\":{},\"id\":\"2152\",\"type\":\"AllLabels\"},{\"attributes\":{\"tools\":[{\"id\":\"2095\"},{\"id\":\"2096\"},{\"id\":\"2097\"},{\"id\":\"2098\"},{\"id\":\"2099\"},{\"id\":\"2100\"}]},\"id\":\"2102\",\"type\":\"Toolbar\"},{\"attributes\":{},\"id\":\"2098\",\"type\":\"SaveTool\"},{\"attributes\":{\"coordinates\":null,\"formatter\":{\"id\":\"2151\"},\"group\":null,\"major_label_policy\":{\"id\":\"2152\"},\"ticker\":{\"id\":\"2092\"}},\"id\":\"2091\",\"type\":\"LinearAxis\"},{\"attributes\":{\"data\":{\"x\":[0,1,2,3,4,5,6,7,8,9,10,11,12,13,14,15,16,17,18,19,20,21,22,23,24,25,26,27,28,29,30,31,32,33,34,35,36,37,38,39,40,41,42,43,44,45,46,47,48,49,50,51,52,53,54,55,56,57,58,59,60,61,62,63,64,65,66,67,68,69,70,71,72,73,74,75,76,77,78,79,80,81,82,83,84,85,86,87,88,89,90,91,92,93,94,95,96,97,98,99,100,101,102,103,104,105,106,107,108,109,110,111,112,113,114,115,116,117,118,119,120,121,122,123,124,125,126,127,128,129,130,131,132,133,134,135,136,137,138,139,140,141,142,143,144,145,146,147,148,149,150,151,152,153,154,155,156,157,158,159,160,161,162,163,164,165,166,167,168,169,170,171,172,173,174,175,176,177,178,179,180,181,182,183,184,185,186,187,188,189,190,191,192,193,194,195,196,197,198,199,200,201,202,203,204,205,206,207,208,209,210,211,212,213,214,215,216,217,218,219,220,221,222,223,224,225,226,227,228,229,230,231,232,233,234,235,236,237,238,239,240,241,242,243,244,245,246,247,248,249,250,251,252,253,254,255],\"y\":{\"__ndarray__\":\"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\",\"dtype\":\"float64\",\"order\":\"little\",\"shape\":[256]}},\"selected\":{\"id\":\"2157\"},\"selection_policy\":{\"id\":\"2156\"}},\"id\":\"2109\",\"type\":\"ColumnDataSource\"},{\"attributes\":{\"line_color\":\"#1f77b4\",\"x\":{\"field\":\"x\"},\"y\":{\"field\":\"y\"}},\"id\":\"2110\",\"type\":\"Line\"},{\"attributes\":{\"axis\":{\"id\":\"2091\"},\"coordinates\":null,\"dimension\":1,\"group\":null,\"ticker\":null},\"id\":\"2094\",\"type\":\"Grid\"},{\"attributes\":{},\"id\":\"2085\",\"type\":\"LinearScale\"},{\"attributes\":{},\"id\":\"2083\",\"type\":\"LinearScale\"},{\"attributes\":{\"source\":{\"id\":\"2109\"}},\"id\":\"2114\",\"type\":\"CDSView\"},{\"attributes\":{},\"id\":\"2099\",\"type\":\"ResetTool\"},{\"attributes\":{},\"id\":\"2095\",\"type\":\"PanTool\"},{\"attributes\":{},\"id\":\"2156\",\"type\":\"UnionRenderers\"},{\"attributes\":{},\"id\":\"2157\",\"type\":\"Selection\"},{\"attributes\":{\"bottom_units\":\"screen\",\"coordinates\":null,\"fill_alpha\":0.5,\"fill_color\":\"lightgrey\",\"group\":null,\"left_units\":\"screen\",\"level\":\"overlay\",\"line_alpha\":1.0,\"line_color\":\"black\",\"line_dash\":[4,4],\"line_width\":2,\"right_units\":\"screen\",\"syncable\":false,\"top_units\":\"screen\"},\"id\":\"2101\",\"type\":\"BoxAnnotation\"},{\"attributes\":{\"coordinates\":null,\"data_source\":{\"id\":\"2109\"},\"glyph\":{\"id\":\"2110\"},\"group\":null,\"hover_glyph\":null,\"muted_glyph\":{\"id\":\"2112\"},\"nonselection_glyph\":{\"id\":\"2111\"},\"view\":{\"id\":\"2114\"}},\"id\":\"2113\",\"type\":\"GlyphRenderer\"},{\"attributes\":{\"axis\":{\"id\":\"2087\"},\"coordinates\":null,\"group\":null,\"ticker\":null},\"id\":\"2090\",\"type\":\"Grid\"},{\"attributes\":{\"coordinates\":null,\"group\":null},\"id\":\"2148\",\"type\":\"Title\"},{\"attributes\":{},\"id\":\"2092\",\"type\":\"BasicTicker\"},{\"attributes\":{},\"id\":\"2154\",\"type\":\"BasicTickFormatter\"},{\"attributes\":{\"overlay\":{\"id\":\"2101\"}},\"id\":\"2097\",\"type\":\"BoxZoomTool\"},{\"attributes\":{},\"id\":\"2079\",\"type\":\"DataRange1d\"},{\"attributes\":{},\"id\":\"2088\",\"type\":\"BasicTicker\"},{\"attributes\":{\"line_alpha\":0.1,\"line_color\":\"#1f77b4\",\"x\":{\"field\":\"x\"},\"y\":{\"field\":\"y\"}},\"id\":\"2111\",\"type\":\"Line\"},{\"attributes\":{\"coordinates\":null,\"formatter\":{\"id\":\"2154\"},\"group\":null,\"major_label_policy\":{\"id\":\"2155\"},\"ticker\":{\"id\":\"2088\"}},\"id\":\"2087\",\"type\":\"LinearAxis\"},{\"attributes\":{},\"id\":\"2081\",\"type\":\"DataRange1d\"},{\"attributes\":{\"line_alpha\":0.2,\"line_color\":\"#1f77b4\",\"x\":{\"field\":\"x\"},\"y\":{\"field\":\"y\"}},\"id\":\"2112\",\"type\":\"Line\"}],\"root_ids\":[\"2078\"]},\"title\":\"Bokeh Application\",\"version\":\"2.4.2\"}};\n  const render_items = [{\"docid\":\"57b0430f-9276-4c5b-86aa-e2d9956271c0\",\"root_ids\":[\"2078\"],\"roots\":{\"2078\":\"22dd46a8-194e-4e37-8106-8fd45bc1e840\"}}];\n  root.Bokeh.embed.embed_items_notebook(docs_json, render_items);\n\n  }\n  if (root.Bokeh !== undefined) {\n    embed_document(root);\n  } else {\n    let attempts = 0;\n    const timer = setInterval(function(root) {\n      if (root.Bokeh !== undefined) {\n        clearInterval(timer);\n        embed_document(root);\n      } else {\n        attempts++;\n        if (attempts > 100) {\n          clearInterval(timer);\n          console.log(\"Bokeh: ERROR: Unable to run BokehJS code because BokehJS library is missing\");\n        }\n      }\n    }, 10, root)\n  }\n})(window);",
      "application/vnd.bokehjs_exec.v0+json": ""
     },
     "metadata": {
      "application/vnd.bokehjs_exec.v0+json": {
       "id": "2078"
      }
     },
     "output_type": "display_data"
    }
   ],
   "source": [
    "sine = np.linspace(0, np.pi * 16, 256)\n",
    "sine = np.sin(sine)\n",
    "window = np.hanning(len(sine)) * sine\n",
    "\n",
    "output_notebook()\n",
    "output_file(\"window.png\")\n",
    "p = figure()\n",
    "p.line(range(len(window)), window)\n",
    "show(p)"
   ]
  }
 ],
 "metadata": {
  "interpreter": {
   "hash": "34e8d4cd4859f8a048a419e3eb1241101682adb0823107698615acf379dd86fc"
  },
  "kernelspec": {
   "display_name": "Python 3.10.0 64-bit ('3.10.0')",
   "language": "python",
   "name": "python3"
  },
  "language_info": {
   "codemirror_mode": {
    "name": "ipython",
    "version": 3
   },
   "file_extension": ".py",
   "mimetype": "text/x-python",
   "name": "python",
   "nbconvert_exporter": "python",
   "pygments_lexer": "ipython3",
   "version": "3.10.0"
  },
  "orig_nbformat": 4
 },
 "nbformat": 4,
 "nbformat_minor": 2
}
